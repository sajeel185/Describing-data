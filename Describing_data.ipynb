{
 "cells": [
  {
   "cell_type": "code",
   "execution_count": 11,
   "metadata": {},
   "outputs": [],
   "source": [
    "import pandas as pd\n",
    "import numpy as np\n",
    "import statistics"
   ]
  },
  {
   "cell_type": "code",
   "execution_count": 12,
   "metadata": {},
   "outputs": [],
   "source": [
    "age_list = [14, 12, 11, 10, 8, 6, 8]"
   ]
  },
  {
   "cell_type": "code",
   "execution_count": 13,
   "metadata": {},
   "outputs": [],
   "source": [
    "list_mean = np.mean(age_list)\n",
    "list_median = np.median(age_list)\n",
    "list_mode = statistics.mode(age_list)\n",
    "list_variance = np.var(age_list)\n",
    "list_std = np.std(age_list)\n",
    "math_error = np.std(age_list) / np.sqrt(len(age_list)-1)"
   ]
  },
  {
   "cell_type": "code",
   "execution_count": 14,
   "metadata": {},
   "outputs": [
    {
     "name": "stdout",
     "output_type": "stream",
     "text": [
      "The mean of the data set is 9.857142857142858.\n",
      "The median of the data set is 10.0.\n",
      "The mode of the data set is 8.\n",
      "The variance of the data set is 6.408163265306122.\n",
      "The standard deviation of the data set is 2.531435020952764.\n",
      "The standard error of our mean calculation is 1.0334540197243194.\n"
     ]
    }
   ],
   "source": [
    "print(\"The mean of the data set is {}.\".format(list_mean))\n",
    "print(\"The median of the data set is {}.\".format(list_median))\n",
    "print(\"The mode of the data set is {}.\".format(list_mode))\n",
    "print(\"The variance of the data set is {}.\".format(list_variance))\n",
    "print(\"The standard deviation of the data set is {}.\".format(list_std))\n",
    "print(\"The standard error of our mean calculation is {}.\".format(math_error))"
   ]
  },
  {
   "cell_type": "markdown",
   "metadata": {},
   "source": [
    "This data set above represents the ages of six children.  For this example I would use the mean as the measure of central tendency, because here we are working with a small data set and so the mean (average) is a good representation of the data set.  For the measure of variance, I would use the standard deviation.  The standard deviation of this data set is 2.73.  From looking at our data set, I see that the majority of the data points fall within or are close to the standard deviation."
   ]
  },
  {
   "cell_type": "code",
   "execution_count": 15,
   "metadata": {},
   "outputs": [],
   "source": [
    "age_list2 = [14, 12, 11, 10, 8, 7, 8]"
   ]
  },
  {
   "cell_type": "code",
   "execution_count": 16,
   "metadata": {},
   "outputs": [],
   "source": [
    "list_mean2 = np.mean(age_list2)\n",
    "list_median2 = np.median(age_list2)\n",
    "list_mode2 = statistics.mode(age_list2)\n",
    "list_variance2 = np.var(age_list2)\n",
    "list_std2 = np.std(age_list2)\n",
    "math_error2 = np.std(age_list2) / np.sqrt(len(age_list2)-1)"
   ]
  },
  {
   "cell_type": "code",
   "execution_count": 17,
   "metadata": {},
   "outputs": [
    {
     "name": "stdout",
     "output_type": "stream",
     "text": [
      "The mean of the data set is 10.0.\n",
      "The median of the data set is 10.0.\n",
      "The mode of the data set is 8.\n",
      "The variance of the data set is 5.428571428571429.\n",
      "The standard deviation of the data set is 2.32992949004287.\n",
      "The standard error of our mean calculation is 0.951189731211342.\n"
     ]
    }
   ],
   "source": [
    "print(\"The mean of the data set is {}.\".format(list_mean2))\n",
    "print(\"The median of the data set is {}.\".format(list_median2))\n",
    "print(\"The mode of the data set is {}.\".format(list_mode2))\n",
    "print(\"The variance of the data set is {}.\".format(list_variance2))\n",
    "print(\"The standard deviation of the data set is {}.\".format(list_std2))\n",
    "print(\"The standard error of our mean calculation is {}.\".format(math_error2))"
   ]
  },
  {
   "cell_type": "markdown",
   "metadata": {},
   "source": [
    "If the youngest child has a birthday, and we increase his/her age from 6 to 7 yrs old, then the mean (average) of the data set increases alittle from 9.85 to 10.  The median of the data does not change.  The variance decreases alittle from 6.4 to 5.43 and the standard deviation decreases from 2.73 to 2.52, because we increased the age of the youngest child from 6 to 7, pushing the aggregate data got closer to the mean."
   ]
  },
  {
   "cell_type": "code",
   "execution_count": 18,
   "metadata": {},
   "outputs": [],
   "source": [
    "age_list3 = [14, 12, 11, 10, 8, 7, 1]"
   ]
  },
  {
   "cell_type": "code",
   "execution_count": 19,
   "metadata": {},
   "outputs": [],
   "source": [
    "list_mean3 = np.mean(age_list3)\n",
    "list_median3 = np.median(age_list3)\n",
    "list_variance3 = np.var(age_list3)\n",
    "list_std3 = np.std(age_list3)\n",
    "math_error3 = np.std(age_list3) / np.sqrt(len(age_list3)-1)"
   ]
  },
  {
   "cell_type": "code",
   "execution_count": 20,
   "metadata": {},
   "outputs": [
    {
     "name": "stdout",
     "output_type": "stream",
     "text": [
      "The mean of the data set is 9.0.\n",
      "The median of the data set is 10.0.\n",
      "The variance of the data set is 15.428571428571429.\n",
      "The standard deviation of the data set is 3.927922024247863.\n",
      "The standard error of our mean calculation is 1.6035674514745466.\n"
     ]
    }
   ],
   "source": [
    "print(\"The mean of the data set is {}.\".format(list_mean3))\n",
    "print(\"The median of the data set is {}.\".format(list_median3))\n",
    "print(\"The variance of the data set is {}.\".format(list_variance3))\n",
    "print(\"The standard deviation of the data set is {}.\".format(list_std3))\n",
    "print(\"The standard error of our mean calculation is {}.\".format(math_error3))"
   ]
  },
  {
   "cell_type": "markdown",
   "metadata": {},
   "source": [
    "By replacing cousin oliver, whose age was 8, with another child that 1 yr old, we see that the mean (average), of the data set decreases significantly from 10 to 9.  The median stays the same.  The variance increases significantly from 5.43 to 15.43 and the standard deviation increases significantly from 2.52 to 4.24.  This suggests that variation among our data points increased.  Because the variation increased, resulting in our mean being biased towards the younger age numbers, I would not use mean as my preferred method of central tendency in this example.  I would rather go with the median, because its a better representaion of the different age groups.  I would still use standard deviation as my variance method becuase most, if not all, datapoints fall within the standard deviation."
   ]
  },
  {
   "cell_type": "markdown",
   "metadata": {},
   "source": [
    "I would not consider the respondants from the sciphi magazine, because the target audience from that magazine don't really have anything to do with the brady bunch.  So I would just take the average of the reponses of the other three magazines: (.20 +.23 + .17)/3 = .20; OR 20%"
   ]
  }
 ],
 "metadata": {
  "kernelspec": {
   "display_name": "Python 3",
   "language": "python",
   "name": "python3"
  },
  "language_info": {
   "codemirror_mode": {
    "name": "ipython",
    "version": 3
   },
   "file_extension": ".py",
   "mimetype": "text/x-python",
   "name": "python",
   "nbconvert_exporter": "python",
   "pygments_lexer": "ipython3",
   "version": "3.7.0"
  }
 },
 "nbformat": 4,
 "nbformat_minor": 2
}
